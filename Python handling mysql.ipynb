{
 "cells": [
  {
   "cell_type": "markdown",
   "id": "b6d559d4",
   "metadata": {},
   "source": [
    "# Play mysql with python"
   ]
  },
  {
   "cell_type": "code",
   "execution_count": 3,
   "id": "d53ace8e",
   "metadata": {},
   "outputs": [
    {
     "name": "stdout",
     "output_type": "stream",
     "text": [
      "Collecting mysql-connector-python"
     ]
    },
    {
     "name": "stderr",
     "output_type": "stream",
     "text": [
      "WARNING: You are using pip version 21.3.1; however, version 22.0.4 is available.\n",
      "You should consider upgrading via the 'C:\\Users\\User\\AppData\\Local\\Programs\\Python\\Python39\\python.exe -m pip install --upgrade pip' command.\n"
     ]
    },
    {
     "name": "stdout",
     "output_type": "stream",
     "text": [
      "\n",
      "  Downloading mysql_connector_python-8.0.28-cp39-cp39-win_amd64.whl (7.2 MB)\n",
      "Requirement already satisfied: protobuf>=3.0.0 in c:\\users\\user\\appdata\\local\\programs\\python\\python39\\lib\\site-packages (from mysql-connector-python) (3.19.3)\n",
      "Installing collected packages: mysql-connector-python\n",
      "Successfully installed mysql-connector-python-8.0.28\n"
     ]
    }
   ],
   "source": [
    "!python -m pip install mysql-connector-python"
   ]
  },
  {
   "cell_type": "code",
   "execution_count": 1,
   "id": "fb8d1004",
   "metadata": {},
   "outputs": [],
   "source": [
    "import mysql.connector"
   ]
  },
  {
   "cell_type": "code",
   "execution_count": 2,
   "id": "86474f3e",
   "metadata": {},
   "outputs": [
    {
     "name": "stdout",
     "output_type": "stream",
     "text": [
      "<mysql.connector.connection_cext.CMySQLConnection object at 0x00000264E74041F0>\n"
     ]
    }
   ],
   "source": [
    "mydb = mysql.connector.connect(\n",
    "  host=\"localhost\",\n",
    "  user=\"root\",\n",
    "  password=\"dipta143\"\n",
    ")\n",
    "\n",
    "print(mydb)"
   ]
  },
  {
   "cell_type": "code",
   "execution_count": 6,
   "id": "e77af46b",
   "metadata": {},
   "outputs": [],
   "source": [
    "mycursor = mydb.cursor()\n",
    "\n",
    "mycursor.execute(\"CREATE DATABASE mydatabase\")"
   ]
  },
  {
   "cell_type": "code",
   "execution_count": 4,
   "id": "9d557be8",
   "metadata": {},
   "outputs": [
    {
     "name": "stdout",
     "output_type": "stream",
     "text": [
      "('information_schema',)\n",
      "('ignity_qa_db_2',)\n",
      "('learningbackend',)\n",
      "('mydatabase',)\n",
      "('mysql',)\n",
      "('performance_schema',)\n",
      "('sakila',)\n",
      "('test',)\n",
      "('world',)\n"
     ]
    }
   ],
   "source": [
    "mycursor = mydb.cursor()\n",
    "mycursor.execute(\"SHOW DATABASES\")\n",
    "\n",
    "for x in mycursor:\n",
    "  print(x)"
   ]
  },
  {
   "cell_type": "markdown",
   "id": "c4503a58",
   "metadata": {},
   "source": [
    "Or you can try to access the database when making the connection:"
   ]
  },
  {
   "cell_type": "code",
   "execution_count": 16,
   "id": "5f88d0ea",
   "metadata": {},
   "outputs": [],
   "source": [
    "mydb = mysql.connector.connect(\n",
    "  host=\"localhost\",\n",
    "  user=\"root\",\n",
    "  password=\"dipta143\",\n",
    "  database=\"mydatabase\"\n",
    ")"
   ]
  },
  {
   "cell_type": "markdown",
   "id": "c125bc6d",
   "metadata": {},
   "source": [
    "# MySQL Create table"
   ]
  },
  {
   "cell_type": "code",
   "execution_count": 9,
   "id": "525c51aa",
   "metadata": {},
   "outputs": [],
   "source": [
    "mycursor = mydb.cursor()\n",
    "\n",
    "mycursor.execute(\"CREATE TABLE customers (name VARCHAR(255), address VARCHAR(255))\")"
   ]
  },
  {
   "cell_type": "markdown",
   "id": "6f715fa7",
   "metadata": {},
   "source": [
    "# Insert Into Table"
   ]
  },
  {
   "cell_type": "code",
   "execution_count": 13,
   "id": "7da73a2e",
   "metadata": {},
   "outputs": [
    {
     "name": "stdout",
     "output_type": "stream",
     "text": [
      "1 record inserted.\n"
     ]
    }
   ],
   "source": [
    "# Insert single row\n",
    "sql = \"INSERT INTO customers (name, address) VALUES (%s, %s)\"\n",
    "val = (\"John\", \"Highway 21\")\n",
    "mycursor.execute(sql, val)\n",
    "\n",
    "mydb.commit()\n",
    "\n",
    "print(mycursor.rowcount, \"record inserted.\")"
   ]
  },
  {
   "cell_type": "code",
   "execution_count": 14,
   "id": "bb275ea5",
   "metadata": {},
   "outputs": [
    {
     "name": "stdout",
     "output_type": "stream",
     "text": [
      "13 was inserted.\n"
     ]
    }
   ],
   "source": [
    "#Inser many row\n",
    "sql = \"INSERT INTO customers (name, address) VALUES (%s, %s)\"\n",
    "val = [\n",
    "  ('Peter', 'Lowstreet 4'),\n",
    "  ('Amy', 'Apple st 652'),\n",
    "  ('Hannah', 'Mountain 21'),\n",
    "  ('Michael', 'Valley 345'),\n",
    "  ('Sandy', 'Ocean blvd 2'),\n",
    "  ('Betty', 'Green Grass 1'),\n",
    "  ('Richard', 'Sky st 331'),\n",
    "  ('Susan', 'One way 98'),\n",
    "  ('Vicky', 'Yellow Garden 2'),\n",
    "  ('Ben', 'Park Lane 38'),\n",
    "  ('William', 'Central st 954'),\n",
    "  ('Chuck', 'Main Road 989'),\n",
    "  ('Viola', 'Sideway 1633')\n",
    "]\n",
    "\n",
    "mycursor.executemany(sql, val)\n",
    "\n",
    "mydb.commit()\n",
    "\n",
    "print(mycursor.rowcount, \"was inserted.\")"
   ]
  },
  {
   "cell_type": "code",
   "execution_count": 17,
   "id": "530d3324",
   "metadata": {},
   "outputs": [
    {
     "name": "stdout",
     "output_type": "stream",
     "text": [
      "Inserted, ID: 0\n"
     ]
    }
   ],
   "source": [
    "print(\"Inserted, ID:\", mycursor.lastrowid)"
   ]
  },
  {
   "cell_type": "markdown",
   "id": "14fc27f0",
   "metadata": {},
   "source": [
    "# Select from mysql"
   ]
  },
  {
   "cell_type": "code",
   "execution_count": 17,
   "id": "581989aa",
   "metadata": {},
   "outputs": [],
   "source": [
    "cursor = mydb.cursor()\n",
    "\n",
    "cursor.execute(\"SELECT * FROM customers\")\n",
    "rows = cursor.fetchall()\n"
   ]
  },
  {
   "cell_type": "code",
   "execution_count": 18,
   "id": "8e5edb86",
   "metadata": {},
   "outputs": [
    {
     "name": "stdout",
     "output_type": "stream",
     "text": [
      "Total Row(s): 14\n"
     ]
    }
   ],
   "source": [
    "print('Total Row(s):', cursor.rowcount)\n"
   ]
  },
  {
   "cell_type": "code",
   "execution_count": 19,
   "id": "d8f76b70",
   "metadata": {},
   "outputs": [
    {
     "name": "stdout",
     "output_type": "stream",
     "text": [
      "('John', 'Highway 21')\n",
      "('Peter', 'Lowstreet 4')\n",
      "('Amy', 'Apple st 652')\n",
      "('Hannah', 'Mountain 21')\n",
      "('Michael', 'Valley 345')\n",
      "('Sandy', 'Ocean blvd 2')\n",
      "('Betty', 'Green Grass 1')\n",
      "('Richard', 'Sky st 331')\n",
      "('Susan', 'One way 98')\n",
      "('Vicky', 'Yellow Garden 2')\n",
      "('Ben', 'Park Lane 38')\n",
      "('William', 'Central st 954')\n",
      "('Chuck', 'Main Road 989')\n",
      "('Viola', 'Sideway 1633')\n"
     ]
    }
   ],
   "source": [
    "for row in rows:\n",
    "    print(row)"
   ]
  },
  {
   "cell_type": "code",
   "execution_count": 20,
   "id": "cc870ced",
   "metadata": {},
   "outputs": [
    {
     "data": {
      "text/plain": [
       "[('John', 'Highway 21'),\n",
       " ('Peter', 'Lowstreet 4'),\n",
       " ('Amy', 'Apple st 652'),\n",
       " ('Hannah', 'Mountain 21'),\n",
       " ('Michael', 'Valley 345'),\n",
       " ('Sandy', 'Ocean blvd 2'),\n",
       " ('Betty', 'Green Grass 1'),\n",
       " ('Richard', 'Sky st 331'),\n",
       " ('Susan', 'One way 98'),\n",
       " ('Vicky', 'Yellow Garden 2'),\n",
       " ('Ben', 'Park Lane 38'),\n",
       " ('William', 'Central st 954'),\n",
       " ('Chuck', 'Main Road 989'),\n",
       " ('Viola', 'Sideway 1633')]"
      ]
     },
     "execution_count": 20,
     "metadata": {},
     "output_type": "execute_result"
    }
   ],
   "source": [
    "rows"
   ]
  },
  {
   "cell_type": "markdown",
   "id": "1dfe9a2d",
   "metadata": {},
   "source": [
    "# Now you can do all kinds of SQL Operations in the sql query."
   ]
  },
  {
   "cell_type": "code",
   "execution_count": 23,
   "id": "0f81c43b",
   "metadata": {},
   "outputs": [
    {
     "data": {
      "text/plain": [
       "[('John', 'Highway 21')]"
      ]
     },
     "execution_count": 23,
     "metadata": {},
     "output_type": "execute_result"
    }
   ],
   "source": [
    "#Where operation\n",
    "cursor.execute(\"SELECT * FROM customers where name = 'John'\")\n",
    "result = cursor.fetchall()\n",
    "result"
   ]
  },
  {
   "cell_type": "code",
   "execution_count": 24,
   "id": "beca303e",
   "metadata": {},
   "outputs": [
    {
     "data": {
      "text/plain": [
       "[('Amy', 'Apple st 652'),\n",
       " ('Ben', 'Park Lane 38'),\n",
       " ('Betty', 'Green Grass 1'),\n",
       " ('Chuck', 'Main Road 989'),\n",
       " ('Hannah', 'Mountain 21'),\n",
       " ('John', 'Highway 21'),\n",
       " ('Michael', 'Valley 345'),\n",
       " ('Peter', 'Lowstreet 4'),\n",
       " ('Richard', 'Sky st 331'),\n",
       " ('Sandy', 'Ocean blvd 2'),\n",
       " ('Susan', 'One way 98'),\n",
       " ('Vicky', 'Yellow Garden 2'),\n",
       " ('Viola', 'Sideway 1633'),\n",
       " ('William', 'Central st 954')]"
      ]
     },
     "execution_count": 24,
     "metadata": {},
     "output_type": "execute_result"
    }
   ],
   "source": [
    "#Order by operation\n",
    "cursor.execute(\"SELECT * FROM customers order by name\")\n",
    "result = cursor.fetchall()\n",
    "result"
   ]
  },
  {
   "cell_type": "code",
   "execution_count": null,
   "id": "4bed0899",
   "metadata": {},
   "outputs": [],
   "source": []
  }
 ],
 "metadata": {
  "kernelspec": {
   "display_name": "Python 3 (ipykernel)",
   "language": "python",
   "name": "python3"
  },
  "language_info": {
   "codemirror_mode": {
    "name": "ipython",
    "version": 3
   },
   "file_extension": ".py",
   "mimetype": "text/x-python",
   "name": "python",
   "nbconvert_exporter": "python",
   "pygments_lexer": "ipython3",
   "version": "3.9.5"
  }
 },
 "nbformat": 4,
 "nbformat_minor": 5
}
